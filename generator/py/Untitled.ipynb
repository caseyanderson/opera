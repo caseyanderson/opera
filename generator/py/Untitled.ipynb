{
 "cells": [
  {
   "cell_type": "code",
   "execution_count": 20,
   "id": "d020036e",
   "metadata": {},
   "outputs": [],
   "source": [
    "\"\"\"\n",
    "\n",
    "in progress refactor and development of ghostses.py for future operas or whatever\n",
    "\n",
    "\"\"\"\n",
    "\n",
    "from datetime import datetime\n",
    "from pathlib import Path\n",
    "import os\n",
    "import itertools\n",
    "\n",
    "from nltk.corpus import stopwords\n",
    "from nltk.tokenize import word_tokenize, sent_tokenize\n",
    "\n",
    "import argparse\n",
    "\n",
    "class Ghostses:\n",
    "\n",
    "    def __init__(self, filename):\n",
    "        \"\"\" make a ghostses object\n",
    "            read the corpus into object\n",
    "        \"\"\"\n",
    "        self.filename = filename\n",
    "        f = open(str(self.filename), 'r')\n",
    "        self.corpus = f.read() # plaintext of the corpus\n",
    "\n",
    "\n",
    "    def getSentences(self):\n",
    "        \"\"\" tokenize corpus by sentence \"\"\"\n",
    "        self.sentences = sent_tokenize(self.corpus)        \n",
    "\n",
    "    \n",
    "    def getWords(self, preserveSpaces = True):\n",
    "        \"\"\" tokenize corpus sentences by word \"\"\"\n",
    "        self.words = []\n",
    "        for sentence in self.sentences:\n",
    "            if preserveSpaces == True:\n",
    "                words = [[word_tokenize(w), ' '] for w in sentence.split()]\n",
    "                wordList = list(itertools.chain(*list(itertools.chain(*words))))\n",
    "                if wordList[-1] == ' ':\n",
    "                    # removes trailing whitespace @ end of sentence if there is any\n",
    "                    wordList.pop()\n",
    "                self.words.append(wordList)\n",
    "            if preserveSpaces == False:\n",
    "                words = word_tokenize(sentence)\n",
    "                self.words.append(words)\n",
    "        self.preserveSpaces = preserveSpaces\n"
   ]
  },
  {
   "cell_type": "code",
   "execution_count": 21,
   "id": "bc997a87",
   "metadata": {},
   "outputs": [],
   "source": [
    "score = Ghostses(\"corpora/Stein-short.txt\")"
   ]
  },
  {
   "cell_type": "code",
   "execution_count": 22,
   "id": "04aa60f4",
   "metadata": {},
   "outputs": [],
   "source": [
    "score.getSentences()"
   ]
  },
  {
   "cell_type": "code",
   "execution_count": 25,
   "id": "43671d8b",
   "metadata": {},
   "outputs": [
    {
     "data": {
      "text/plain": [
       "[['There',\n",
       "  ' ',\n",
       "  'is',\n",
       "  ' ',\n",
       "  'no',\n",
       "  ' ',\n",
       "  'gratitude',\n",
       "  ' ',\n",
       "  'in',\n",
       "  ' ',\n",
       "  'mercy',\n",
       "  ' ',\n",
       "  'and',\n",
       "  ' ',\n",
       "  'in',\n",
       "  ' ',\n",
       "  'medicine',\n",
       "  '.'],\n",
       " ['There',\n",
       "  ' ',\n",
       "  'can',\n",
       "  ' ',\n",
       "  'be',\n",
       "  ' ',\n",
       "  'breakages',\n",
       "  ' ',\n",
       "  'in',\n",
       "  ' ',\n",
       "  'Japanese',\n",
       "  '.'],\n",
       " ['That', ' ', 'is', ' ', 'no', ' ', 'programme', '.']]"
      ]
     },
     "execution_count": 25,
     "metadata": {},
     "output_type": "execute_result"
    }
   ],
   "source": [
    "score.getWords(True)\n",
    "score.words"
   ]
  },
  {
   "cell_type": "code",
   "execution_count": 26,
   "id": "7ad0e2ae",
   "metadata": {},
   "outputs": [
    {
     "data": {
      "text/plain": [
       "[['There',\n",
       "  'is',\n",
       "  'no',\n",
       "  'gratitude',\n",
       "  'in',\n",
       "  'mercy',\n",
       "  'and',\n",
       "  'in',\n",
       "  'medicine',\n",
       "  '.'],\n",
       " ['There', 'can', 'be', 'breakages', 'in', 'Japanese', '.'],\n",
       " ['That', 'is', 'no', 'programme', '.']]"
      ]
     },
     "execution_count": 26,
     "metadata": {},
     "output_type": "execute_result"
    }
   ],
   "source": [
    "score.getWords(False)\n",
    "score.words"
   ]
  },
  {
   "cell_type": "code",
   "execution_count": null,
   "id": "33910dbc",
   "metadata": {},
   "outputs": [],
   "source": []
  }
 ],
 "metadata": {
  "kernelspec": {
   "display_name": "Python 3 (ipykernel)",
   "language": "python",
   "name": "python3"
  },
  "language_info": {
   "codemirror_mode": {
    "name": "ipython",
    "version": 3
   },
   "file_extension": ".py",
   "mimetype": "text/x-python",
   "name": "python",
   "nbconvert_exporter": "python",
   "pygments_lexer": "ipython3",
   "version": "3.10.4"
  }
 },
 "nbformat": 4,
 "nbformat_minor": 5
}
